{
 "cells": [
  {
   "cell_type": "markdown",
   "id": "d29a5fd9-589b-4249-8adf-07bc884eebe2",
   "metadata": {},
   "source": [
    "How many citations (incoming and outgoing), as in OpenCitations, are the research objects involved in?"
   ]
  },
  {
   "cell_type": "code",
   "execution_count": null,
   "id": "036ebc1e-d2dc-41ea-97e7-21b7cd51f3e9",
   "metadata": {},
   "outputs": [],
   "source": [
    "import requests\n",
    "import pandas as pd\n",
    "import time\n",
    "\n",
    "df= pd.read_csv(\"C:/Users/annan/Downloads/mashup.csv\", low_memory=False)\n",
    "list_doi= df[\"doi\"].dropna().tolist() "
   ]
  },
  {
   "cell_type": "code",
   "execution_count": 1,
   "id": "026f67c7-52a8-4ac2-aee3-a51a66205fbf",
   "metadata": {},
   "outputs": [],
   "source": [
    "#access API to retrieve outgoing citations\n",
    "def get_references(doi):        \n",
    "    url = f\"https://opencitations.net/index/api/v2/references/doi:{doi}\"\n",
    "    response = requests.get(url)\n",
    "    if response.status_code == 200:\n",
    "        return response.json()\n",
    "    else:\n",
    "        print(f\"Error fetching references for {doi}: {response.status_code}\")\n",
    "        return []\n"
   ]
  },
  {
   "cell_type": "code",
   "execution_count": 2,
   "id": "90625403-278c-4dc2-9fe0-58b94f1d39f4",
   "metadata": {},
   "outputs": [],
   "source": [
    "#access API to retrieve ingoing citations\n",
    "def get_citations(doi):     \n",
    "    url = f\"https://opencitations.net/index/api/v2/citations/doi:{doi}\"\n",
    "    response = requests.get(url)\n",
    "    if response.status_code == 200:\n",
    "        return response.json()\n",
    "    else:\n",
    "        print(f\"Error fetching citations for {doi}: {response.status_code}\")\n",
    "        return []\n"
   ]
  },
  {
   "cell_type": "code",
   "execution_count": 3,
   "id": "5d1199ce-0628-4010-8e96-a619c5191d1c",
   "metadata": {},
   "outputs": [
    {
     "ename": "NameError",
     "evalue": "name 'list_doi' is not defined",
     "output_type": "error",
     "traceback": [
      "\u001b[31m---------------------------------------------------------------------------\u001b[39m",
      "\u001b[31mNameError\u001b[39m                                 Traceback (most recent call last)",
      "\u001b[36mCell\u001b[39m\u001b[36m \u001b[39m\u001b[32mIn[3]\u001b[39m\u001b[32m, line 3\u001b[39m\n\u001b[32m      1\u001b[39m rows1 = []    \u001b[38;5;66;03m#DF outgoing cit\u001b[39;00m\n\u001b[32m----> \u001b[39m\u001b[32m3\u001b[39m \u001b[38;5;28;01mfor\u001b[39;00m doi \u001b[38;5;129;01min\u001b[39;00m \u001b[43mlist_doi\u001b[49m:\n\u001b[32m      4\u001b[39m     outgoing_cit= \u001b[38;5;28mlist\u001b[39m()\n\u001b[32m      5\u001b[39m     outgoing_oci = \u001b[38;5;28mset\u001b[39m() \n",
      "\u001b[31mNameError\u001b[39m: name 'list_doi' is not defined"
     ]
    }
   ],
   "source": [
    "#creating DF for outgoing cit\n",
    "rows1 = []    \n",
    "\n",
    "for doi in list_doi:\n",
    "    outgoing_cit= list()\n",
    "    outgoing_oci = set() \n",
    "    citations = get_references(doi)\n",
    "    for cit in citations:   #check duplicated citation through oci\n",
    "        oci = cit.get(\"oci\")\n",
    "        if oci is not None and oci not in outgoing_oci:\n",
    "            outgoing_cit.append(cit)\n",
    "            outgoing_oci.add(oci)\n",
    "    rows1.append({\n",
    "        'doi': doi,\n",
    "        'cite_num_outgoing': len(outgoing_cit),\n",
    "        'oci_outgoing': list(outgoing_oci)\n",
    "        })\n",
    "    time.sleep(1)\n",
    "\n",
    "output_table1 = pd.DataFrame(rows1)\n"
   ]
  },
  {
   "cell_type": "code",
   "execution_count": 4,
   "id": "bfabcecf-15e1-425e-95ab-511253db795d",
   "metadata": {},
   "outputs": [
    {
     "ename": "NameError",
     "evalue": "name 'list_doi' is not defined",
     "output_type": "error",
     "traceback": [
      "\u001b[31m---------------------------------------------------------------------------\u001b[39m",
      "\u001b[31mNameError\u001b[39m                                 Traceback (most recent call last)",
      "\u001b[36mCell\u001b[39m\u001b[36m \u001b[39m\u001b[32mIn[4]\u001b[39m\u001b[32m, line 3\u001b[39m\n\u001b[32m      1\u001b[39m rows2 = []   \u001b[38;5;66;03m#DF ingoing cit\u001b[39;00m\n\u001b[32m----> \u001b[39m\u001b[32m3\u001b[39m \u001b[38;5;28;01mfor\u001b[39;00m doi \u001b[38;5;129;01min\u001b[39;00m \u001b[43mlist_doi\u001b[49m:\n\u001b[32m      4\u001b[39m     ingoing_cit= \u001b[38;5;28mlist\u001b[39m()\n\u001b[32m      5\u001b[39m     ingoing_oci = \u001b[38;5;28mset\u001b[39m() \n",
      "\u001b[31mNameError\u001b[39m: name 'list_doi' is not defined"
     ]
    }
   ],
   "source": [
    "#creating DF for ingoing cit\n",
    "rows2 = []   \n",
    "\n",
    "for doi in list_doi:\n",
    "    ingoing_cit= list()\n",
    "    ingoing_oci = set() \n",
    "    citations = get_citations(doi)\n",
    "    for cit in citations:\n",
    "        oci = cit.get(\"oci\")\n",
    "        if oci is not None and oci not in ingoing_oci:\n",
    "            ingoing_cit.append(cit)\n",
    "            ingoing_oci.add(oci)\n",
    "    rows2.append({\n",
    "        'doi': doi,\n",
    "        'cite_num_ingoing': len(ingoing_cit),\n",
    "        'oci_ingoing': list(ingoing_oci)\n",
    "        })\n",
    "    time.sleep(1)\n",
    "\n",
    "output_table2 = pd.DataFrame(rows2)\n"
   ]
  },
  {
   "cell_type": "code",
   "execution_count": null,
   "id": "42941927-ca6a-4fd8-9507-0157f7103e88",
   "metadata": {},
   "outputs": [],
   "source": [
    "#merge to a single DF and export csv\n",
    "from IPython.display import FileLink\n",
    "\n",
    "output = pd.merge(output_table1, output_table2, on='doi', how=\"outer\")\n",
    "output.to_csv(\"CitationsCount\", index=False)\n",
    "Filelink(\"CitationsCount\")"
   ]
  }
 ],
 "metadata": {
  "kernelspec": {
   "display_name": "Python 3 (ipykernel)",
   "language": "python",
   "name": "python3"
  },
  "language_info": {
   "codemirror_mode": {
    "name": "ipython",
    "version": 3
   },
   "file_extension": ".py",
   "mimetype": "text/x-python",
   "name": "python",
   "nbconvert_exporter": "python",
   "pygments_lexer": "ipython3",
   "version": "3.13.3"
  }
 },
 "nbformat": 4,
 "nbformat_minor": 5
}
