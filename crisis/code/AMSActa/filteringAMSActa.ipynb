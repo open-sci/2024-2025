{
 "cells": [
  {
   "cell_type": "markdown",
   "metadata": {},
   "source": [
    "Filtering the results of the extraction, according to \"University of Bologna\" and the ORCID"
   ]
  },
  {
   "cell_type": "code",
   "execution_count": null,
   "metadata": {},
   "outputs": [],
   "source": [
    "import json\n",
    "import csv\n",
    "\n",
    "# === CONFIGURATION ===\n",
    "input_file = 'amsacta_cleaned_metadata.json'    # Your JSON file path\n",
    "csv_file = 'POSTPROCESS-iris-data-2025-05-27/ODS_L1_IR_ITEM_CON_PERSON.csv'                       # Your CSV file path (with ORCID column)\n",
    "output_file = 'filtered_affiliation_or_orcid.json'  # Output JSON\n",
    "\n",
    "# === STEP 1: Load ORCIDs from CSV ===\n",
    "with open(csv_file, 'r', encoding='utf-8') as f:\n",
    "    reader = csv.DictReader(f)\n",
    "    valid_orcids = {\n",
    "        str(row.get('ORCID', '')).strip().lower()\n",
    "        for row in reader\n",
    "        if row.get('ORCID')\n",
    "    }\n",
    "\n",
    "# === STEP 2: Load JSON records ===\n",
    "with open(input_file, 'r', encoding='utf-8') as f:\n",
    "    records = json.load(f)\n",
    "\n",
    "# === STEP 3: Filter records where affiliation contains \"bologna\" or \"unibo\" OR ORCID matches ===\n",
    "filtered_records = []\n",
    "\n",
    "for record in records:\n",
    "    creators = record.get('creators', [])\n",
    "    for creator in creators:\n",
    "        affiliation = creator.get('affiliation', '')\n",
    "        orcid_raw = creator.get('orcid')\n",
    "        orcid = str(orcid_raw).strip().lower() if orcid_raw else ''\n",
    "\n",
    "        affil = affiliation.lower() if isinstance(affiliation, str) else ''\n",
    "\n",
    "        # Condition: affiliation contains 'bologna' or 'unibo', OR orcid in valid_orcids\n",
    "        if ('bologna' in affil or 'unibo' in affil) or (orcid in valid_orcids):\n",
    "            filtered_records.append(record)\n",
    "            break  # Stop after first matching creator to avoid duplicates\n",
    "\n",
    "# === STEP 4: Save filtered records ===\n",
    "with open(output_file, 'w', encoding='utf-8') as f:\n",
    "    json.dump(filtered_records, f, ensure_ascii=False, indent=2)\n",
    "\n",
    "print(f\"✅ Found {len(filtered_records)} records matching affiliation or ORCID criteria.\")\n",
    "print(f\"📦 Saved to '{output_file}'\")\n",
    "\n",
    "\n",
    "\n",
    "\n"
   ]
  }
 ],
 "metadata": {
  "language_info": {
   "name": "python"
  }
 },
 "nbformat": 4,
 "nbformat_minor": 2
}
