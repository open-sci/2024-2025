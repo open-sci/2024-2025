{
 "cells": [
  {
   "cell_type": "markdown",
   "id": "080ca20c",
   "metadata": {},
   "source": [
    "# Mashup data\n",
    "\n",
    "## Read and Filter Zenodo \n",
    "\n",
    "**Zenodo output data labels**\n",
    "\n",
    "**title** : title of the record\\\n",
    "**id**: the identifier number assigned to the record in Zendo\\\n",
    "**doi**: the complete doi in the zenodo\\\n",
    "**creators**: a list of creators of the record\\\n",
    "**orcid**: a list of orcid id of the creators of the record\\\n",
    "**date**: the publication date of the record\\\n",
    "**description**: the description in the metadata of the record\\\n",
    "**type**: the type of the record extracted from the title of resource type in metadata\\\n",
    "**broader_type**: the type of the record extracted from the type of the resource type in metadat\\\n",
    "**rights**: the access rights to the record\\\n",
    "**publisher**: the publisher if metioned for the journals or books or university for thesis\n",
    ", otherwise it is zenodo\\\n",
    "**relation**: the pid of the relation\\\n",
    "**communities**: the communities id mentioned in metadata"
   ]
  },
  {
   "cell_type": "code",
   "execution_count": 149,
   "id": "e4ca8a2f",
   "metadata": {},
   "outputs": [],
   "source": [
    "import numpy as np\n",
    "import pandas as pd\n",
    "\n",
    "# Read Zenodo dataset\n",
    "zen_ds = pd.read_json(path_or_buf='../datasets/ZenodoData.json')"
   ]
  },
  {
   "cell_type": "code",
   "execution_count": 150,
   "id": "c5656f08",
   "metadata": {},
   "outputs": [],
   "source": [
    "%qtconsole"
   ]
  },
  {
   "cell_type": "code",
   "execution_count": 151,
   "id": "e4601494",
   "metadata": {},
   "outputs": [],
   "source": [
    "# Safe getter: gets from deeper layers\n",
    "def safe_nested_get(d, *keys, default='zenodo'):\n",
    "    for key in keys:\n",
    "        if isinstance(d, dict):\n",
    "            d = d.get(key, default)\n",
    "        else:\n",
    "            return default\n",
    "    return d\n"
   ]
  },
  {
   "cell_type": "code",
   "execution_count": 152,
   "id": "1390e59a",
   "metadata": {},
   "outputs": [],
   "source": [
    "def extract_metadata_info(metadata):\n",
    "    if not isinstance(metadata, dict): # control if the argument is a dictionary\n",
    "        return pd.Series({\n",
    "            'creator' : np.nan,\n",
    "            'orcid': np.nan,\n",
    "            'date': np.nan,\n",
    "            'description' : np.nan,\n",
    "            'resource_type' : np.nan,\n",
    "            'type' : np.nan,\n",
    "            'publisher' : 'zenodo',\n",
    "            'access_right' : np.nan,\n",
    "            'relation' : np.nan,\n",
    "            'communities' : np.nan\n",
    "        })\n",
    "    \n",
    "    # Create a list of creators\n",
    "    creators = [creator.get('name', np.nan) for creator in metadata.get('creators', [])]\n",
    "    # Create a list of creators' orcid numbers\n",
    "    orcids = [creator.get('orcid', np.nan) for creator in metadata.get('creators', [])]\n",
    "    pub_date = metadata.get('publication_date', np.nan) \n",
    "    description = metadata.get('description', np.nan) # Retrieve description for potential use cases\n",
    "    res_type = metadata.get('resource_type', np.nan).get('title', np.nan) # Get the type by title of the type\n",
    "    broad_type = metadata.get('resource_type', np.nan).get('type', np.nan) # Get the broader type\n",
    "    rights = metadata.get('access_right', np.nan)\n",
    "    publisher = 'zenodo' # Put the default value to zenodo\n",
    "    communities = [community.get('id', np.nan) for community in metadata.get('communities', [])]\n",
    "\n",
    "    relation = []\n",
    "    # Extract pid_value of relations in metadata\n",
    "    version_list = metadata.get('relations', {}).get('version', [])\n",
    "    for version in version_list:\n",
    "        parent = version.get('parent', {})\n",
    "        pid_val = parent.get('pid_value')\n",
    "        if pid_val:\n",
    "            relation.append(pid_val)\n",
    "            \n",
    "    if res_type == 'Journal article' or res_type == 'Peer review':\n",
    "        publisher = safe_nested_get(metadata, 'journal', 'title')\n",
    "\n",
    "    elif res_type == 'Conference paper' or res_type == 'Presentation': # Get meeting title In case resource type\n",
    "        publisher = safe_nested_get(metadata, 'meeting', 'title')      #  is conference or presentation \n",
    "\n",
    "    elif res_type == 'Book chapter' or res_type == 'Book':\n",
    "        publisher = safe_nested_get(metadata, 'imprint', 'publisher')\n",
    "        if pd.isna(publisher):\n",
    "            publisher = safe_nested_get(metadata, 'thesis', 'place')\n",
    "\n",
    "    elif res_type == 'Thesis' or 'thesis' in metadata: # In case the type is not thesis but the publishers' \n",
    "                                                       # information is in the 'thesis' key\n",
    "        publisher = safe_nested_get(metadata, 'thesis', 'university')\n",
    "           \n",
    "    return pd.Series({\n",
    "        'name' : creators,\n",
    "        'orcid': orcids,\n",
    "        'date': pub_date,\n",
    "        'description' : description,\n",
    "        'resource_type' : res_type,\n",
    "        'type' : broad_type,\n",
    "        'access_right' : rights,\n",
    "        'publisher' : publisher,\n",
    "        'relation' : relation,\n",
    "        'communities' : communities\n",
    "    })\n"
   ]
  },
  {
   "cell_type": "code",
   "execution_count": 153,
   "id": "4dd87101",
   "metadata": {},
   "outputs": [],
   "source": [
    "# Apply the function\n",
    "zen_ds[['creators', 'orcid', 'date', 'description', 'resource_type', 'type', 'rights', 'publisher',\n",
    "        'relation', 'communities']] = zen_ds['metadata'].apply(extract_metadata_info)"
   ]
  },
  {
   "cell_type": "code",
   "execution_count": 154,
   "id": "d2678696",
   "metadata": {},
   "outputs": [
    {
     "name": "stderr",
     "output_type": "stream",
     "text": [
      "/tmp/ipykernel_64338/2335864193.py:4: SettingWithCopyWarning: \n",
      "A value is trying to be set on a copy of a slice from a DataFrame.\n",
      "Try using .loc[row_indexer,col_indexer] = value instead\n",
      "\n",
      "See the caveats in the documentation: https://pandas.pydata.org/pandas-docs/stable/user_guide/indexing.html#returning-a-view-versus-a-copy\n",
      "  norm_zen_ds['src_repo'] = 'zenodo' # Add the flag column for source repository \"zenodo\"\n",
      "/tmp/ipykernel_64338/2335864193.py:5: SettingWithCopyWarning: \n",
      "A value is trying to be set on a copy of a slice from a DataFrame\n",
      "\n",
      "See the caveats in the documentation: https://pandas.pydata.org/pandas-docs/stable/user_guide/indexing.html#returning-a-view-versus-a-copy\n",
      "  norm_zen_ds.rename(columns={'doi_url':'url'}, inplace=True)\n"
     ]
    },
    {
     "data": {
      "text/html": [
       "<div>\n",
       "<style scoped>\n",
       "    .dataframe tbody tr th:only-of-type {\n",
       "        vertical-align: middle;\n",
       "    }\n",
       "\n",
       "    .dataframe tbody tr th {\n",
       "        vertical-align: top;\n",
       "    }\n",
       "\n",
       "    .dataframe thead th {\n",
       "        text-align: right;\n",
       "    }\n",
       "</style>\n",
       "<table border=\"1\" class=\"dataframe\">\n",
       "  <thead>\n",
       "    <tr style=\"text-align: right;\">\n",
       "      <th></th>\n",
       "      <th>title</th>\n",
       "      <th>id</th>\n",
       "      <th>doi</th>\n",
       "      <th>creators</th>\n",
       "      <th>orcid</th>\n",
       "      <th>date</th>\n",
       "      <th>description</th>\n",
       "      <th>resource_type</th>\n",
       "      <th>url</th>\n",
       "      <th>type</th>\n",
       "      <th>rights</th>\n",
       "      <th>publisher</th>\n",
       "      <th>relation</th>\n",
       "      <th>communities</th>\n",
       "      <th>src_repo</th>\n",
       "    </tr>\n",
       "  </thead>\n",
       "  <tbody>\n",
       "    <tr>\n",
       "      <th>0</th>\n",
       "      <td>Il Progetto ACCESs: esperienze di accessibilit...</td>\n",
       "      <td>7956878</td>\n",
       "      <td>10.5281/zenodo.7956878</td>\n",
       "      <td>[Zanchi, Anna]</td>\n",
       "      <td>[nan]</td>\n",
       "      <td>2023-05-22</td>\n",
       "      <td>&lt;p&gt;Tesi di laurea magistrale del corso di Arti...</td>\n",
       "      <td>Thesis</td>\n",
       "      <td>https://doi.org/10.5281/zenodo.7956878</td>\n",
       "      <td>publication</td>\n",
       "      <td>open</td>\n",
       "      <td>Alma Mater Studiorum Università di Bologna</td>\n",
       "      <td>[7956877]</td>\n",
       "      <td>[]</td>\n",
       "      <td>zenodo</td>\n",
       "    </tr>\n",
       "    <tr>\n",
       "      <th>1</th>\n",
       "      <td>La Chouffe DMP New</td>\n",
       "      <td>6411449</td>\n",
       "      <td>10.5281/zenodo.6411449</td>\n",
       "      <td>[Chiara Catizone, Giulia Venditti, Davide Brem...</td>\n",
       "      <td>[0000-0003-2445-2426, 0000-0001-7696-7574, 000...</td>\n",
       "      <td>2022-04-04</td>\n",
       "      <td>&lt;p&gt;This DMP has been created fo managing data ...</td>\n",
       "      <td>Output management plan</td>\n",
       "      <td>https://doi.org/10.5281/zenodo.6411449</td>\n",
       "      <td>publication</td>\n",
       "      <td>open</td>\n",
       "      <td>zenodo</td>\n",
       "      <td>[6411448]</td>\n",
       "      <td>[argos]</td>\n",
       "      <td>zenodo</td>\n",
       "    </tr>\n",
       "    <tr>\n",
       "      <th>2</th>\n",
       "      <td>Footactile rhythmics: protocols and data colle...</td>\n",
       "      <td>5504259</td>\n",
       "      <td>10.5281/zenodo.5504259</td>\n",
       "      <td>[Dall'Osso, Giorgio]</td>\n",
       "      <td>[0000-0002-4219-7513]</td>\n",
       "      <td>2021-09-13</td>\n",
       "      <td>&lt;p&gt;The data shared refer to research investiga...</td>\n",
       "      <td>Dataset</td>\n",
       "      <td>https://doi.org/10.5281/zenodo.5504259</td>\n",
       "      <td>dataset</td>\n",
       "      <td>open</td>\n",
       "      <td>Alma Mater Studiorum - Università di Bologna</td>\n",
       "      <td>[5504258]</td>\n",
       "      <td>[]</td>\n",
       "      <td>zenodo</td>\n",
       "    </tr>\n",
       "    <tr>\n",
       "      <th>3</th>\n",
       "      <td>La Chouffe DMP</td>\n",
       "      <td>6411382</td>\n",
       "      <td>10.5281/zenodo.6411382</td>\n",
       "      <td>[Chiara Catizone]</td>\n",
       "      <td>[nan]</td>\n",
       "      <td>2022-04-04</td>\n",
       "      <td>This DMP has been created fo managing data rep...</td>\n",
       "      <td>Output management plan</td>\n",
       "      <td>https://doi.org/10.5281/zenodo.6411382</td>\n",
       "      <td>publication</td>\n",
       "      <td>open</td>\n",
       "      <td>zenodo</td>\n",
       "      <td>[6411381]</td>\n",
       "      <td>[argos]</td>\n",
       "      <td>zenodo</td>\n",
       "    </tr>\n",
       "    <tr>\n",
       "      <th>4</th>\n",
       "      <td>Addressing the Challenges of Health Data Stand...</td>\n",
       "      <td>15358180</td>\n",
       "      <td>10.5281/zenodo.15358180</td>\n",
       "      <td>[Marfoglia, Alberto, Arcobelli, Valerio Antoni...</td>\n",
       "      <td>[0009-0000-5857-2376, 0000-0002-1262-9899, 000...</td>\n",
       "      <td>2025-05-07</td>\n",
       "      <td>&lt;p&gt;This table presents the data extraction fro...</td>\n",
       "      <td>Dataset</td>\n",
       "      <td>https://doi.org/10.5281/zenodo.15358180</td>\n",
       "      <td>dataset</td>\n",
       "      <td>open</td>\n",
       "      <td>zenodo</td>\n",
       "      <td>[15358179]</td>\n",
       "      <td>[]</td>\n",
       "      <td>zenodo</td>\n",
       "    </tr>\n",
       "  </tbody>\n",
       "</table>\n",
       "</div>"
      ],
      "text/plain": [
       "                                               title        id  \\\n",
       "0  Il Progetto ACCESs: esperienze di accessibilit...   7956878   \n",
       "1                                 La Chouffe DMP New   6411449   \n",
       "2  Footactile rhythmics: protocols and data colle...   5504259   \n",
       "3                                     La Chouffe DMP   6411382   \n",
       "4  Addressing the Challenges of Health Data Stand...  15358180   \n",
       "\n",
       "                       doi                                           creators  \\\n",
       "0   10.5281/zenodo.7956878                                     [Zanchi, Anna]   \n",
       "1   10.5281/zenodo.6411449  [Chiara Catizone, Giulia Venditti, Davide Brem...   \n",
       "2   10.5281/zenodo.5504259                               [Dall'Osso, Giorgio]   \n",
       "3   10.5281/zenodo.6411382                                  [Chiara Catizone]   \n",
       "4  10.5281/zenodo.15358180  [Marfoglia, Alberto, Arcobelli, Valerio Antoni...   \n",
       "\n",
       "                                               orcid        date  \\\n",
       "0                                              [nan]  2023-05-22   \n",
       "1  [0000-0003-2445-2426, 0000-0001-7696-7574, 000...  2022-04-04   \n",
       "2                              [0000-0002-4219-7513]  2021-09-13   \n",
       "3                                              [nan]  2022-04-04   \n",
       "4  [0009-0000-5857-2376, 0000-0002-1262-9899, 000...  2025-05-07   \n",
       "\n",
       "                                         description           resource_type  \\\n",
       "0  <p>Tesi di laurea magistrale del corso di Arti...                  Thesis   \n",
       "1  <p>This DMP has been created fo managing data ...  Output management plan   \n",
       "2  <p>The data shared refer to research investiga...                 Dataset   \n",
       "3  This DMP has been created fo managing data rep...  Output management plan   \n",
       "4  <p>This table presents the data extraction fro...                 Dataset   \n",
       "\n",
       "                                       url         type rights  \\\n",
       "0   https://doi.org/10.5281/zenodo.7956878  publication   open   \n",
       "1   https://doi.org/10.5281/zenodo.6411449  publication   open   \n",
       "2   https://doi.org/10.5281/zenodo.5504259      dataset   open   \n",
       "3   https://doi.org/10.5281/zenodo.6411382  publication   open   \n",
       "4  https://doi.org/10.5281/zenodo.15358180      dataset   open   \n",
       "\n",
       "                                      publisher    relation communities  \\\n",
       "0    Alma Mater Studiorum Università di Bologna   [7956877]          []   \n",
       "1                                        zenodo   [6411448]     [argos]   \n",
       "2  Alma Mater Studiorum - Università di Bologna   [5504258]          []   \n",
       "3                                        zenodo   [6411381]     [argos]   \n",
       "4                                        zenodo  [15358179]          []   \n",
       "\n",
       "  src_repo  \n",
       "0   zenodo  \n",
       "1   zenodo  \n",
       "2   zenodo  \n",
       "3   zenodo  \n",
       "4   zenodo  "
      ]
     },
     "execution_count": 154,
     "metadata": {},
     "output_type": "execute_result"
    }
   ],
   "source": [
    "column_lst = ['title', 'id', 'doi', 'creators', 'orcid', 'date', 'description', 'resource_type', 'doi_url', 'type', 'rights', \n",
    "              'publisher', 'relation', 'communities']\n",
    "norm_zen_ds = zen_ds[column_lst] # Get the needed columns in dataframe\n",
    "norm_zen_ds['src_repo'] = 'zenodo' # Add the flag column for source repository \"zenodo\"\n",
    "norm_zen_ds.rename(columns={'doi_url':'url'}, inplace=True)\n",
    "norm_zen_ds.head()"
   ]
  },
  {
   "cell_type": "markdown",
   "id": "b7701963-e399-43f1-b11a-26d00a0dc7ab",
   "metadata": {},
   "source": [
    "There are 276 duplicated rows in the zenodo dataset (by id and doi)"
   ]
  },
  {
   "cell_type": "code",
   "execution_count": 155,
   "id": "8c958e0d",
   "metadata": {
    "scrolled": true
   },
   "outputs": [],
   "source": [
    "zen_ds2 = norm_zen_ds.drop_duplicates(subset=['id'])"
   ]
  },
  {
   "cell_type": "code",
   "execution_count": 156,
   "id": "0e6d2324-9357-4974-90d7-7b6490b345fa",
   "metadata": {},
   "outputs": [
    {
     "data": {
      "text/plain": [
       "array(['publication', 'dataset', 'software', 'other', 'poster',\n",
       "       'presentation', 'image', 'model', 'event', 'lesson', 'video',\n",
       "       'workflow', 'physicalobject'], dtype=object)"
      ]
     },
     "execution_count": 156,
     "metadata": {},
     "output_type": "execute_result"
    }
   ],
   "source": [
    "zen_ds2['type'].unique()"
   ]
  },
  {
   "cell_type": "markdown",
   "id": "593957f0",
   "metadata": {},
   "source": [
    "## Read and Filter AMS Acta\n",
    "**AMS Acta output data lablels**\n",
    "**\n"
   ]
  },
  {
   "cell_type": "code",
   "execution_count": 157,
   "id": "eba6ed25",
   "metadata": {},
   "outputs": [],
   "source": [
    "ams_ds = pd.read_json(path_or_buf='../datasets/amsacta_filtered_affiliation_or_orcid_doubles.json')"
   ]
  },
  {
   "cell_type": "code",
   "execution_count": 158,
   "id": "c63e9045",
   "metadata": {},
   "outputs": [],
   "source": [
    "ams_col = ['title', 'doi', 'creators', 'monograph_type', 'type', 'date', 'uri', 'publisher', 'eprintid', \n",
    "          'abstract', 'issn' ]"
   ]
  },
  {
   "cell_type": "code",
   "execution_count": 159,
   "id": "f7a47c87",
   "metadata": {},
   "outputs": [],
   "source": [
    "ams_ds_filt = ams_ds[ams_col]"
   ]
  },
  {
   "cell_type": "code",
   "execution_count": 160,
   "id": "b4e9549b",
   "metadata": {},
   "outputs": [
    {
     "name": "stderr",
     "output_type": "stream",
     "text": [
      "/tmp/ipykernel_64338/2184239150.py:1: SettingWithCopyWarning: \n",
      "A value is trying to be set on a copy of a slice from a DataFrame.\n",
      "Try using .loc[row_indexer,col_indexer] = value instead\n",
      "\n",
      "See the caveats in the documentation: https://pandas.pydata.org/pandas-docs/stable/user_guide/indexing.html#returning-a-view-versus-a-copy\n",
      "  ams_ds_filt['date'] = pd.to_datetime(ams_ds_filt['date']).dt.date # Normalize datetime\n"
     ]
    }
   ],
   "source": [
    "ams_ds_filt['date'] = pd.to_datetime(ams_ds_filt['date']).dt.date # Normalize datetime"
   ]
  },
  {
   "cell_type": "code",
   "execution_count": 161,
   "id": "773dd201",
   "metadata": {},
   "outputs": [],
   "source": [
    "def name_getter(creators_raw):\n",
    "    # creators_raw is already the list we want\n",
    "    if not isinstance(creators_raw, list):\n",
    "        creators_raw = []\n",
    "\n",
    "    creators, orcids = [], []\n",
    "\n",
    "    for person in creators_raw:\n",
    "        if not isinstance(person, dict):\n",
    "            continuezen_ds2 = norm_zen_ds.drop_duplicates(subset=['id'])\n",
    "        name     = person.get(\"name\", {})\n",
    "        family   = name.get(\"family\")\n",
    "        given    = name.get(\"given\")\n",
    "\n",
    "        parts = [p for p in (family, given) if p]      # drop None/empty\n",
    "        if parts:\n",
    "            creators.append(\", \".join(parts[::-1]))    # \"Family, Given\"\n",
    "\n",
    "        orcids.append(person.get(\"orcid\", np.nan))\n",
    "\n",
    "    return pd.Series({\"creators\": creators or np.nan,\n",
    "                      \"orcid\":    orcids    or np.nan})\n"
   ]
  },
  {
   "cell_type": "code",
   "execution_count": 162,
   "id": "3a698f93",
   "metadata": {},
   "outputs": [
    {
     "name": "stderr",
     "output_type": "stream",
     "text": [
      "/tmp/ipykernel_64338/2269218868.py:1: SettingWithCopyWarning: \n",
      "A value is trying to be set on a copy of a slice from a DataFrame.\n",
      "Try using .loc[row_indexer,col_indexer] = value instead\n",
      "\n",
      "See the caveats in the documentation: https://pandas.pydata.org/pandas-docs/stable/user_guide/indexing.html#returning-a-view-versus-a-copy\n",
      "  ams_ds_filt[[\"creators\", \"orcid\"]] = ams_ds_filt[\"creators\"].apply(name_getter) # Apply the function\n",
      "/tmp/ipykernel_64338/2269218868.py:1: SettingWithCopyWarning: \n",
      "A value is trying to be set on a copy of a slice from a DataFrame.\n",
      "Try using .loc[row_indexer,col_indexer] = value instead\n",
      "\n",
      "See the caveats in the documentation: https://pandas.pydata.org/pandas-docs/stable/user_guide/indexing.html#returning-a-view-versus-a-copy\n",
      "  ams_ds_filt[[\"creators\", \"orcid\"]] = ams_ds_filt[\"creators\"].apply(name_getter) # Apply the function\n"
     ]
    }
   ],
   "source": [
    "ams_ds_filt[[\"creators\", \"orcid\"]] = ams_ds_filt[\"creators\"].apply(name_getter) # Apply the function"
   ]
  },
  {
   "cell_type": "markdown",
   "id": "70063564",
   "metadata": {},
   "source": [
    "### AMSACTA column renames\n",
    "* resource_type is monograph_type in the original dataset\n",
    "* url is uri in the original dataset\n",
    "* id is eprintid in the original dataset\n",
    "* description is abstract in the original dataset"
   ]
  },
  {
   "cell_type": "code",
   "execution_count": 163,
   "id": "5f5df9f9",
   "metadata": {},
   "outputs": [
    {
     "name": "stderr",
     "output_type": "stream",
     "text": [
      "/tmp/ipykernel_64338/1603260970.py:1: SettingWithCopyWarning: \n",
      "A value is trying to be set on a copy of a slice from a DataFrame\n",
      "\n",
      "See the caveats in the documentation: https://pandas.pydata.org/pandas-docs/stable/user_guide/indexing.html#returning-a-view-versus-a-copy\n",
      "  ams_ds_filt.rename(columns={'monograph_type':'resource_type','uri':'url', 'eprintid':'id', 'abstract':'description'}, inplace=True)\n",
      "/tmp/ipykernel_64338/1603260970.py:2: SettingWithCopyWarning: \n",
      "A value is trying to be set on a copy of a slice from a DataFrame.\n",
      "Try using .loc[row_indexer,col_indexer] = value instead\n",
      "\n",
      "See the caveats in the documentation: https://pandas.pydata.org/pandas-docs/stable/user_guide/indexing.html#returning-a-view-versus-a-copy\n",
      "  ams_ds_filt['src_repo'] = 'amsacta'\n"
     ]
    }
   ],
   "source": [
    "ams_ds_filt.rename(columns={'monograph_type':'resource_type','uri':'url', 'eprintid':'id', 'abstract':'description'}, inplace=True)\n",
    "ams_ds_filt['src_repo'] = 'amsacta'"
   ]
  },
  {
   "cell_type": "markdown",
   "id": "bb18d8e9-0ad9-424a-91fe-93550eef4937",
   "metadata": {},
   "source": [
    "There are some duplicated records with different ids. We keep them for further investigations."
   ]
  },
  {
   "cell_type": "code",
   "execution_count": 164,
   "id": "70c64d46-8a80-4d7c-a52f-2016554c11ce",
   "metadata": {},
   "outputs": [
    {
     "data": {
      "text/html": [
       "<div>\n",
       "<style scoped>\n",
       "    .dataframe tbody tr th:only-of-type {\n",
       "        vertical-align: middle;\n",
       "    }\n",
       "\n",
       "    .dataframe tbody tr th {\n",
       "        vertical-align: top;\n",
       "    }\n",
       "\n",
       "    .dataframe thead th {\n",
       "        text-align: right;\n",
       "    }\n",
       "</style>\n",
       "<table border=\"1\" class=\"dataframe\">\n",
       "  <thead>\n",
       "    <tr style=\"text-align: right;\">\n",
       "      <th></th>\n",
       "      <th>title</th>\n",
       "      <th>doi</th>\n",
       "      <th>creators</th>\n",
       "      <th>resource_type</th>\n",
       "      <th>type</th>\n",
       "      <th>date</th>\n",
       "      <th>url</th>\n",
       "      <th>publisher</th>\n",
       "      <th>id</th>\n",
       "      <th>description</th>\n",
       "      <th>issn</th>\n",
       "      <th>orcid</th>\n",
       "      <th>src_repo</th>\n",
       "    </tr>\n",
       "  </thead>\n",
       "  <tbody>\n",
       "    <tr>\n",
       "      <th>0</th>\n",
       "      <td>Introduzione alla Fisica del Terreno</td>\n",
       "      <td>10.6092/unibo/amsacta/2616</td>\n",
       "      <td>[Giuliano, Vitali]</td>\n",
       "      <td>manual</td>\n",
       "      <td>monograph</td>\n",
       "      <td>2009-09-30</td>\n",
       "      <td>https://amsacta.unibo.it/id/eprint/2616</td>\n",
       "      <td>Asterisco</td>\n",
       "      <td>2616</td>\n",
       "      <td>NaN</td>\n",
       "      <td>NaN</td>\n",
       "      <td>[0000-0002-7866-5534]</td>\n",
       "      <td>amsacta</td>\n",
       "    </tr>\n",
       "    <tr>\n",
       "      <th>1</th>\n",
       "      <td>A Female Musician or Dancer of Iron Age in Sou...</td>\n",
       "      <td>10.6092/unibo/amsacta/2953</td>\n",
       "      <td>[Angela, Bellia]</td>\n",
       "      <td>NaN</td>\n",
       "      <td>preprint</td>\n",
       "      <td>1970-01-01</td>\n",
       "      <td>https://amsacta.unibo.it/id/eprint/2953</td>\n",
       "      <td>NaN</td>\n",
       "      <td>2953</td>\n",
       "      <td>The excavations conducted by Paola Zancani Mon...</td>\n",
       "      <td>NaN</td>\n",
       "      <td>[0000-0002-1517-6012]</td>\n",
       "      <td>amsacta</td>\n",
       "    </tr>\n",
       "    <tr>\n",
       "      <th>2</th>\n",
       "      <td>Gli strumenti musicali nelle immagini della Gr...</td>\n",
       "      <td>10.6092/unibo/amsacta/2955</td>\n",
       "      <td>[Angela, Bellia]</td>\n",
       "      <td>NaN</td>\n",
       "      <td>preprint</td>\n",
       "      <td>1970-01-01</td>\n",
       "      <td>https://amsacta.unibo.it/id/eprint/2955</td>\n",
       "      <td>NaN</td>\n",
       "      <td>2955</td>\n",
       "      <td>Questo percorso didattico è dedicato agli stru...</td>\n",
       "      <td>NaN</td>\n",
       "      <td>[0000-0002-1517-6012]</td>\n",
       "      <td>amsacta</td>\n",
       "    </tr>\n",
       "    <tr>\n",
       "      <th>3</th>\n",
       "      <td>Mito, musica e rito nelle raffigurazioni music...</td>\n",
       "      <td>10.6092/unibo/amsacta/2957</td>\n",
       "      <td>[Angela, Bellia]</td>\n",
       "      <td>NaN</td>\n",
       "      <td>conference_item</td>\n",
       "      <td>2008-07-01</td>\n",
       "      <td>https://amsacta.unibo.it/id/eprint/2957</td>\n",
       "      <td>NaN</td>\n",
       "      <td>2957</td>\n",
       "      <td>I pinakes locresi sono tavolette votive in ter...</td>\n",
       "      <td>NaN</td>\n",
       "      <td>[0000-0002-1517-6012]</td>\n",
       "      <td>amsacta</td>\n",
       "    </tr>\n",
       "    <tr>\n",
       "      <th>4</th>\n",
       "      <td>Le raffigurazioni musicali nella coroplastica ...</td>\n",
       "      <td>10.6092/unibo/amsacta/2958</td>\n",
       "      <td>[Angela, Bellia]</td>\n",
       "      <td>NaN</td>\n",
       "      <td>conference_item</td>\n",
       "      <td>1970-01-01</td>\n",
       "      <td>https://amsacta.unibo.it/id/eprint/2958</td>\n",
       "      <td>NaN</td>\n",
       "      <td>2958</td>\n",
       "      <td>Nell’ambito degli studi archeologici, le ricer...</td>\n",
       "      <td>NaN</td>\n",
       "      <td>[0000-0002-1517-6012]</td>\n",
       "      <td>amsacta</td>\n",
       "    </tr>\n",
       "  </tbody>\n",
       "</table>\n",
       "</div>"
      ],
      "text/plain": [
       "                                               title  \\\n",
       "0               Introduzione alla Fisica del Terreno   \n",
       "1  A Female Musician or Dancer of Iron Age in Sou...   \n",
       "2  Gli strumenti musicali nelle immagini della Gr...   \n",
       "3  Mito, musica e rito nelle raffigurazioni music...   \n",
       "4  Le raffigurazioni musicali nella coroplastica ...   \n",
       "\n",
       "                          doi            creators resource_type  \\\n",
       "0  10.6092/unibo/amsacta/2616  [Giuliano, Vitali]        manual   \n",
       "1  10.6092/unibo/amsacta/2953    [Angela, Bellia]           NaN   \n",
       "2  10.6092/unibo/amsacta/2955    [Angela, Bellia]           NaN   \n",
       "3  10.6092/unibo/amsacta/2957    [Angela, Bellia]           NaN   \n",
       "4  10.6092/unibo/amsacta/2958    [Angela, Bellia]           NaN   \n",
       "\n",
       "              type        date                                      url  \\\n",
       "0        monograph  2009-09-30  https://amsacta.unibo.it/id/eprint/2616   \n",
       "1         preprint  1970-01-01  https://amsacta.unibo.it/id/eprint/2953   \n",
       "2         preprint  1970-01-01  https://amsacta.unibo.it/id/eprint/2955   \n",
       "3  conference_item  2008-07-01  https://amsacta.unibo.it/id/eprint/2957   \n",
       "4  conference_item  1970-01-01  https://amsacta.unibo.it/id/eprint/2958   \n",
       "\n",
       "   publisher    id                                        description issn  \\\n",
       "0  Asterisco  2616                                                NaN  NaN   \n",
       "1        NaN  2953  The excavations conducted by Paola Zancani Mon...  NaN   \n",
       "2        NaN  2955  Questo percorso didattico è dedicato agli stru...  NaN   \n",
       "3        NaN  2957  I pinakes locresi sono tavolette votive in ter...  NaN   \n",
       "4        NaN  2958  Nell’ambito degli studi archeologici, le ricer...  NaN   \n",
       "\n",
       "                   orcid src_repo  \n",
       "0  [0000-0002-7866-5534]  amsacta  \n",
       "1  [0000-0002-1517-6012]  amsacta  \n",
       "2  [0000-0002-1517-6012]  amsacta  \n",
       "3  [0000-0002-1517-6012]  amsacta  \n",
       "4  [0000-0002-1517-6012]  amsacta  "
      ]
     },
     "execution_count": 164,
     "metadata": {},
     "output_type": "execute_result"
    }
   ],
   "source": [
    "ams_ds_filt.head()"
   ]
  },
  {
   "cell_type": "markdown",
   "id": "be65934b",
   "metadata": {},
   "source": [
    "## Read Software Heritage data"
   ]
  },
  {
   "cell_type": "code",
   "execution_count": 165,
   "id": "f21c96d0",
   "metadata": {},
   "outputs": [],
   "source": [
    "swh_ds = pd.read_json(path_or_buf='../datasets/unibo_repositories_swh.json')"
   ]
  },
  {
   "cell_type": "code",
   "execution_count": 166,
   "id": "77c9c8b8",
   "metadata": {},
   "outputs": [],
   "source": [
    "def author_getter(creators_raw):\n",
    "    # creators_raw is already the list we want\n",
    "    if not isinstance(creators_raw, list):\n",
    "        creators_raw = []\n",
    "\n",
    "    creators = []\n",
    "\n",
    "    for person in creators_raw:\n",
    "        if not isinstance(person, dict):\n",
    "            continue\n",
    "        name = person.get(\"name\", {})\n",
    "\n",
    "        if name != 'GitHub':\n",
    "            creators.append(name)    # get name\n",
    "\n",
    "    return pd.Series({\"creators\": creators or np.nan})\n"
   ]
  },
  {
   "cell_type": "code",
   "execution_count": 167,
   "id": "07f623d6",
   "metadata": {},
   "outputs": [],
   "source": [
    "swh_ds[[\"creators\"]] = swh_ds[\"authors\"].apply(author_getter) # Apply the function"
   ]
  },
  {
   "cell_type": "code",
   "execution_count": 168,
   "id": "86e4977f",
   "metadata": {},
   "outputs": [],
   "source": [
    "swh_ds = swh_ds[['url', 'creators']]\n",
    "swh_ds['src_repo'] = 'software heritage'"
   ]
  },
  {
   "cell_type": "code",
   "execution_count": 169,
   "id": "fcd380b0-3ad1-444b-a99b-a8e934521232",
   "metadata": {},
   "outputs": [
    {
     "data": {
      "text/html": [
       "<div>\n",
       "<style scoped>\n",
       "    .dataframe tbody tr th:only-of-type {\n",
       "        vertical-align: middle;\n",
       "    }\n",
       "\n",
       "    .dataframe tbody tr th {\n",
       "        vertical-align: top;\n",
       "    }\n",
       "\n",
       "    .dataframe thead th {\n",
       "        text-align: right;\n",
       "    }\n",
       "</style>\n",
       "<table border=\"1\" class=\"dataframe\">\n",
       "  <thead>\n",
       "    <tr style=\"text-align: right;\">\n",
       "      <th></th>\n",
       "      <th>url</th>\n",
       "      <th>creators</th>\n",
       "      <th>src_repo</th>\n",
       "      <th>title</th>\n",
       "    </tr>\n",
       "  </thead>\n",
       "  <tbody>\n",
       "    <tr>\n",
       "      <th>0</th>\n",
       "      <td>https://dei-gitlab.dei.unibo.it/mengozzi/thesi...</td>\n",
       "      <td>[Mattia Mengozzi]</td>\n",
       "      <td>software heritage</td>\n",
       "      <td>thesis git</td>\n",
       "    </tr>\n",
       "    <tr>\n",
       "      <th>1</th>\n",
       "      <td>https://github.com/CVLAB-Unibo/Learning2AdaptF...</td>\n",
       "      <td>[Alessio Tonioni, Alessio Tonioni, atonioni]</td>\n",
       "      <td>software heritage</td>\n",
       "      <td>Learning 2 Adapt For Stereo</td>\n",
       "    </tr>\n",
       "    <tr>\n",
       "      <th>2</th>\n",
       "      <td>https://github.com/unibo-bigdata/101-hadoop-hd...</td>\n",
       "      <td>[Enrico Gallinucci, unknown]</td>\n",
       "      <td>software heritage</td>\n",
       "      <td>101 hadoop hdfs Riccardo Salvatori</td>\n",
       "    </tr>\n",
       "    <tr>\n",
       "      <th>3</th>\n",
       "      <td>https://github.com/rrnextUsername/it.unibo.esa...</td>\n",
       "      <td>[Mattia Piretti]</td>\n",
       "      <td>software heritage</td>\n",
       "      <td>it unibo esame sprint 7 refactoring</td>\n",
       "    </tr>\n",
       "    <tr>\n",
       "      <th>4</th>\n",
       "      <td>https://bitbucket.org/shapournemati_unibo/cart...</td>\n",
       "      <td>[Shapour Nemati, shapournemati_unibo]</td>\n",
       "      <td>software heritage</td>\n",
       "      <td>cartag android git</td>\n",
       "    </tr>\n",
       "  </tbody>\n",
       "</table>\n",
       "</div>"
      ],
      "text/plain": [
       "                                                 url  \\\n",
       "0  https://dei-gitlab.dei.unibo.it/mengozzi/thesi...   \n",
       "1  https://github.com/CVLAB-Unibo/Learning2AdaptF...   \n",
       "2  https://github.com/unibo-bigdata/101-hadoop-hd...   \n",
       "3  https://github.com/rrnextUsername/it.unibo.esa...   \n",
       "4  https://bitbucket.org/shapournemati_unibo/cart...   \n",
       "\n",
       "                                       creators           src_repo  \\\n",
       "0                             [Mattia Mengozzi]  software heritage   \n",
       "1  [Alessio Tonioni, Alessio Tonioni, atonioni]  software heritage   \n",
       "2                  [Enrico Gallinucci, unknown]  software heritage   \n",
       "3                              [Mattia Piretti]  software heritage   \n",
       "4         [Shapour Nemati, shapournemati_unibo]  software heritage   \n",
       "\n",
       "                                 title  \n",
       "0                           thesis git  \n",
       "1          Learning 2 Adapt For Stereo  \n",
       "2   101 hadoop hdfs Riccardo Salvatori  \n",
       "3  it unibo esame sprint 7 refactoring  \n",
       "4                   cartag android git  "
      ]
     },
     "execution_count": 169,
     "metadata": {},
     "output_type": "execute_result"
    }
   ],
   "source": [
    "# Get the title from the url tail\n",
    "swh_ds['title'] = swh_ds['url'].str.extract(r'.*/(.*?)$')\n",
    "PATTERN = (\n",
    "      r'(?<=[a-z0-9])(?=[A-Z])'    # lower-or-digit → Upper\n",
    "    r'|(?<=[A-Za-z])(?=\\d)'        # letter         → digit\n",
    "    r'|[-_.]'                      # hyphen, underscore **or dot**\n",
    ")\n",
    "\n",
    "swh_ds['title'] = (\n",
    "    swh_ds['title']\n",
    "      .replace(PATTERN, ' ', regex=True)   # insert / swap for space\n",
    "      .replace(r'\\s+', ' ', regex=True)    # collapse doubles\n",
    ")\n",
    "swh_ds.head()"
   ]
  },
  {
   "cell_type": "markdown",
   "id": "5ea477bd",
   "metadata": {},
   "source": [
    "## Iris dump"
   ]
  },
  {
   "cell_type": "markdown",
   "id": "3ad3af65-0460-4bda-90a0-b73d00bf2ee3",
   "metadata": {},
   "source": [
    "#### first file consists of ids and creators"
   ]
  },
  {
   "cell_type": "code",
   "execution_count": 170,
   "id": "87eeadca",
   "metadata": {},
   "outputs": [],
   "source": [
    "iris1 = pd.read_csv('../datasets/POSTPROCESS-iris-data-2025-05-27/ODS_L1_IR_ITEM_CON_PERSON.csv', dtype={'ITEM_ID':'str'})\n",
    "iris1['creators'] = iris1['LAST_NAME']+', '+iris1['FIRST_NAME'] # Make the name column from first name and second name\n",
    "\n",
    "# Groupby and create list of creators and orcid numbers for each record\n",
    "iris1_agg = iris1.groupby([\"ITEM_ID\"]).agg({\n",
    "    'creators' : lambda x: list(x.unique()),\n",
    "    'ORCID' : lambda  x: list(x.unique()),\n",
    "}).reset_index()"
   ]
  },
  {
   "cell_type": "code",
   "execution_count": 171,
   "id": "86462ec9",
   "metadata": {},
   "outputs": [],
   "source": [
    "iris1_agg = iris1_agg.sort_values(['ITEM_ID']).astype('str')"
   ]
  },
  {
   "cell_type": "markdown",
   "id": "541141fd-64ca-49bb-8895-86e8d1a99a0e",
   "metadata": {},
   "source": [
    "#### second file consists of some records that are not present in the first file"
   ]
  },
  {
   "cell_type": "code",
   "execution_count": 172,
   "id": "7e50eb0d-de3d-404d-9c15-3b88b3f4af1a",
   "metadata": {},
   "outputs": [],
   "source": [
    "iris2 = pd.read_csv('../datasets/POSTPROCESS-iris-data-2025-05-27/ODS_L1_IR_ITEM_DESCRIPTION.csv', dtype={'ITEM_ID':'str'})\n",
    "iris2 = iris2[['ITEM_ID', 'DES_ALLPEOPLE']]"
   ]
  },
  {
   "cell_type": "code",
   "execution_count": 173,
   "id": "db176b41-b2e5-4ba5-9dc3-ead13dabc3cf",
   "metadata": {},
   "outputs": [],
   "source": [
    "rows_only_in_iris2 = iris2[~iris2['ITEM_ID'].isin(iris1_agg['ITEM_ID'])].copy() # check for the records that are not in the first file\n",
    "rows_only_in_iris2['creators'] = rows_only_in_iris2['DES_ALLPEOPLE'].str.split(';') # make a list of creators from allpeople column to add to main datafram"
   ]
  },
  {
   "cell_type": "code",
   "execution_count": 174,
   "id": "0cfcee4b-23b1-4f4d-bb1d-d8e598781995",
   "metadata": {},
   "outputs": [],
   "source": [
    "iris = pd.concat([iris1_agg, rows_only_in_iris2]).astype('str') # concatenate the non-overlapping "
   ]
  },
  {
   "cell_type": "code",
   "execution_count": 175,
   "id": "6bddea3b-f35e-44b5-9959-6c8af561a699",
   "metadata": {},
   "outputs": [
    {
     "name": "stdout",
     "output_type": "stream",
     "text": [
      "(40400, 3)\n",
      "(371806, 3)\n",
      "(412206, 4)\n"
     ]
    }
   ],
   "source": [
    "print(rows_only_in_iris2.shape)\n",
    "print(iris1_agg.shape)\n",
    "print(iris.shape)"
   ]
  },
  {
   "cell_type": "markdown",
   "id": "e353750d-2dab-4f93-ad4b-88df2dadf579",
   "metadata": {},
   "source": [
    "#### Third file consists of identifiers"
   ]
  },
  {
   "cell_type": "code",
   "execution_count": 176,
   "id": "4f65c6d0",
   "metadata": {},
   "outputs": [],
   "source": [
    "iris3 = pd.read_csv('../datasets/POSTPROCESS-iris-data-2025-05-27/ODS_L1_IR_ITEM_IDENTIFIER.csv', dtype='str')\n",
    "iris3.dropna(subset='ITEM_ID', inplace=True)\n",
    "iris3_id = iris3[['ITEM_ID', 'IDE_DOI', 'IDE_URL']]"
   ]
  },
  {
   "cell_type": "code",
   "execution_count": 177,
   "id": "1ff35919-8d9f-45b1-bc5c-5aff59a74f70",
   "metadata": {},
   "outputs": [],
   "source": [
    "iris = pd.merge(left=iris, right=iris3_id, on='ITEM_ID', how='left') # add  doi and url where it exists"
   ]
  },
  {
   "cell_type": "markdown",
   "id": "bb003a28-1da5-459c-9151-0f0d2195d005",
   "metadata": {},
   "source": [
    "#### Fourth consists of titles and the date(year)"
   ]
  },
  {
   "cell_type": "code",
   "execution_count": 178,
   "id": "d5633eea-4250-4a57-ae51-af4ace9170d6",
   "metadata": {},
   "outputs": [],
   "source": [
    "iris4 = pd.read_csv('../datasets/POSTPROCESS-iris-data-2025-05-27/ODS_L1_IR_ITEM_MASTER_ALL.csv', dtype='str')\n",
    "iris4 = iris4[['ITEM_ID','DATE_ISSUED_YEAR', 'TITLE', 'OWNING_COLLECTION_DES']]"
   ]
  },
  {
   "cell_type": "code",
   "execution_count": 179,
   "id": "3dab4660-1ab0-4093-a2db-48499194c58f",
   "metadata": {},
   "outputs": [],
   "source": [
    "iris = pd.merge(left=iris, right=iris4, on='ITEM_ID', how='outer') # merge the fourth iris data set (titles and date)"
   ]
  },
  {
   "cell_type": "markdown",
   "id": "76ea7d7d-3b5e-4b72-aeb1-3ae85d7f8dfe",
   "metadata": {},
   "source": [
    "#### Fifth consists of titles and the date(year)"
   ]
  },
  {
   "cell_type": "code",
   "execution_count": 180,
   "id": "3e55b117-f09f-4733-b8ef-f063be97d0f0",
   "metadata": {},
   "outputs": [],
   "source": [
    "iris5 = pd.read_csv('../datasets/POSTPROCESS-iris-data-2025-05-27/ODS_L1_IR_ITEM_PUBLISHER.csv', dtype='str')\n",
    "iris5 = iris5[['ITEM_ID', 'PUB_NAME']]"
   ]
  },
  {
   "cell_type": "code",
   "execution_count": 181,
   "id": "d5bdb107-b760-4f4f-b8c9-28529acca270",
   "metadata": {},
   "outputs": [],
   "source": [
    "iris = pd.merge(left=iris, right=iris5, on='ITEM_ID', how='outer')"
   ]
  },
  {
   "cell_type": "code",
   "execution_count": 182,
   "id": "5d7209eb-09c6-47f7-bc63-b60535b24e87",
   "metadata": {},
   "outputs": [],
   "source": [
    "iris1_agg.rename(columns={'ITEM_ID':'id', 'NAME':'creators', 'ORCID':'orcid'}, inplace='True')"
   ]
  },
  {
   "cell_type": "code",
   "execution_count": 183,
   "id": "e978647b",
   "metadata": {},
   "outputs": [],
   "source": [
    "rows_only_in_iris5 = iris5[~iris5['ITEM_ID'].isin(iris['ITEM_ID'])].copy()"
   ]
  },
  {
   "cell_type": "code",
   "execution_count": 184,
   "id": "6710261f-1f43-4f52-86f7-ae7df78a6a8e",
   "metadata": {},
   "outputs": [
    {
     "data": {
      "text/html": [
       "<div>\n",
       "<style scoped>\n",
       "    .dataframe tbody tr th:only-of-type {\n",
       "        vertical-align: middle;\n",
       "    }\n",
       "\n",
       "    .dataframe tbody tr th {\n",
       "        vertical-align: top;\n",
       "    }\n",
       "\n",
       "    .dataframe thead th {\n",
       "        text-align: right;\n",
       "    }\n",
       "</style>\n",
       "<table border=\"1\" class=\"dataframe\">\n",
       "  <thead>\n",
       "    <tr style=\"text-align: right;\">\n",
       "      <th></th>\n",
       "      <th>ITEM_ID</th>\n",
       "      <th>PUB_NAME</th>\n",
       "    </tr>\n",
       "  </thead>\n",
       "  <tbody>\n",
       "  </tbody>\n",
       "</table>\n",
       "</div>"
      ],
      "text/plain": [
       "Empty DataFrame\n",
       "Columns: [ITEM_ID, PUB_NAME]\n",
       "Index: []"
      ]
     },
     "execution_count": 184,
     "metadata": {},
     "output_type": "execute_result"
    }
   ],
   "source": [
    "rows_only_in_iris5"
   ]
  },
  {
   "cell_type": "markdown",
   "id": "7f7687df-3658-432b-bb09-5ccd55186030",
   "metadata": {},
   "source": [
    "#### relation in which issn is used"
   ]
  },
  {
   "cell_type": "code",
   "execution_count": 185,
   "id": "d6fc84f9-89dc-43ca-829c-684b52a0a977",
   "metadata": {},
   "outputs": [],
   "source": [
    "iris6 = pd.read_csv('../datasets/POSTPROCESS-iris-data-2025-05-27/ODS_L1_IR_ITEM_RELATION.csv', dtype='str')\n",
    "iris6['REL_ISSN_IN_ERIH_PLUS'] = iris6['REL_ISSN_IN_ERIH_PLUS'].replace({'0':'','1':''})\n",
    "iris6['issn'] = iris6['REL_ISSN'] + iris6['REL_ISSN_IN_ERIH_PLUS']\n",
    "iris6 = iris6[['ITEM_ID','issn']]"
   ]
  },
  {
   "cell_type": "code",
   "execution_count": 186,
   "id": "69f5598c-68e9-4a30-ad5a-f2d09bdd3229",
   "metadata": {},
   "outputs": [],
   "source": [
    "iris = pd.merge(left=iris, right=iris6, on='ITEM_ID', how='left')"
   ]
  },
  {
   "cell_type": "code",
   "execution_count": 187,
   "id": "ba36318e-c48e-4fb6-a29a-1d2f86179e07",
   "metadata": {},
   "outputs": [
    {
     "data": {
      "text/html": [
       "<div>\n",
       "<style scoped>\n",
       "    .dataframe tbody tr th:only-of-type {\n",
       "        vertical-align: middle;\n",
       "    }\n",
       "\n",
       "    .dataframe tbody tr th {\n",
       "        vertical-align: top;\n",
       "    }\n",
       "\n",
       "    .dataframe thead th {\n",
       "        text-align: right;\n",
       "    }\n",
       "</style>\n",
       "<table border=\"1\" class=\"dataframe\">\n",
       "  <thead>\n",
       "    <tr style=\"text-align: right;\">\n",
       "      <th></th>\n",
       "      <th>id</th>\n",
       "      <th>creators</th>\n",
       "      <th>orcid</th>\n",
       "      <th>doi</th>\n",
       "      <th>url</th>\n",
       "      <th>date</th>\n",
       "      <th>title</th>\n",
       "      <th>type</th>\n",
       "      <th>publisher</th>\n",
       "      <th>issn</th>\n",
       "      <th>src_repo</th>\n",
       "    </tr>\n",
       "  </thead>\n",
       "  <tbody>\n",
       "    <tr>\n",
       "      <th>0</th>\n",
       "      <td>1</td>\n",
       "      <td>['CHIUSOLI, ALESSANDRO']</td>\n",
       "      <td>[nan]</td>\n",
       "      <td>NaN</td>\n",
       "      <td>NaN</td>\n",
       "      <td>2004</td>\n",
       "      <td>Il verde nelle aree urbane</td>\n",
       "      <td>2.01 Capitolo / saggio in libro</td>\n",
       "      <td>EDAGRICOLE-EDIZIONI AGRICOLE DE UK IL SOLE 24 ORE</td>\n",
       "      <td>NaN</td>\n",
       "      <td>iris</td>\n",
       "    </tr>\n",
       "    <tr>\n",
       "      <th>1</th>\n",
       "      <td>10</td>\n",
       "      <td>['POGGI, VALENTINA']</td>\n",
       "      <td>[nan]</td>\n",
       "      <td>NaN</td>\n",
       "      <td>NaN</td>\n",
       "      <td>2005</td>\n",
       "      <td>SAMUEL RICHARDSON. LA VITA. PROFILO STORICO CR...</td>\n",
       "      <td>2.01 Capitolo / saggio in libro</td>\n",
       "      <td>GARZANTI</td>\n",
       "      <td>NaN</td>\n",
       "      <td>iris</td>\n",
       "    </tr>\n",
       "    <tr>\n",
       "      <th>2</th>\n",
       "      <td>100</td>\n",
       "      <td>['SEBASTIANI, ALBERTO']</td>\n",
       "      <td>['0000-0001-8197-2888']</td>\n",
       "      <td>NaN</td>\n",
       "      <td>NaN</td>\n",
       "      <td>2005</td>\n",
       "      <td>Io mangio la mela? Io mangio la mela!</td>\n",
       "      <td>1.01 Articolo in rivista</td>\n",
       "      <td>NaN</td>\n",
       "      <td>0012-3382</td>\n",
       "      <td>iris</td>\n",
       "    </tr>\n",
       "    <tr>\n",
       "      <th>3</th>\n",
       "      <td>1000</td>\n",
       "      <td>['QUARANTA, MARILISA', 'OTTANI, VITTORIA']</td>\n",
       "      <td>[nan]</td>\n",
       "      <td>NaN</td>\n",
       "      <td>NaN</td>\n",
       "      <td>2005</td>\n",
       "      <td>Metalloprotesis activation in spontaneously br...</td>\n",
       "      <td>4.02 Riassunto (Abstract)</td>\n",
       "      <td>NaN</td>\n",
       "      <td>0176-8638</td>\n",
       "      <td>iris</td>\n",
       "    </tr>\n",
       "    <tr>\n",
       "      <th>4</th>\n",
       "      <td>10000</td>\n",
       "      <td>['OMICINI, ANDREA']</td>\n",
       "      <td>['0000-0002-6655-3869']</td>\n",
       "      <td>NaN</td>\n",
       "      <td>http://ceur-ws.org/Vol-1382/paper11.pdf</td>\n",
       "      <td>2015</td>\n",
       "      <td>Coordination of Large-Scale Socio-Technical Sy...</td>\n",
       "      <td>4.01 Contributo in Atti di convegno</td>\n",
       "      <td>Sun SITE Central Europe, RWTH Aachen University</td>\n",
       "      <td>1613-0073</td>\n",
       "      <td>iris</td>\n",
       "    </tr>\n",
       "  </tbody>\n",
       "</table>\n",
       "</div>"
      ],
      "text/plain": [
       "      id                                    creators                    orcid  \\\n",
       "0      1                    ['CHIUSOLI, ALESSANDRO']                    [nan]   \n",
       "1     10                        ['POGGI, VALENTINA']                    [nan]   \n",
       "2    100                     ['SEBASTIANI, ALBERTO']  ['0000-0001-8197-2888']   \n",
       "3   1000  ['QUARANTA, MARILISA', 'OTTANI, VITTORIA']                    [nan]   \n",
       "4  10000                         ['OMICINI, ANDREA']  ['0000-0002-6655-3869']   \n",
       "\n",
       "   doi                                      url  date  \\\n",
       "0  NaN                                      NaN  2004   \n",
       "1  NaN                                      NaN  2005   \n",
       "2  NaN                                      NaN  2005   \n",
       "3  NaN                                      NaN  2005   \n",
       "4  NaN  http://ceur-ws.org/Vol-1382/paper11.pdf  2015   \n",
       "\n",
       "                                               title  \\\n",
       "0                         Il verde nelle aree urbane   \n",
       "1  SAMUEL RICHARDSON. LA VITA. PROFILO STORICO CR...   \n",
       "2              Io mangio la mela? Io mangio la mela!   \n",
       "3  Metalloprotesis activation in spontaneously br...   \n",
       "4  Coordination of Large-Scale Socio-Technical Sy...   \n",
       "\n",
       "                                  type  \\\n",
       "0      2.01 Capitolo / saggio in libro   \n",
       "1      2.01 Capitolo / saggio in libro   \n",
       "2             1.01 Articolo in rivista   \n",
       "3            4.02 Riassunto (Abstract)   \n",
       "4  4.01 Contributo in Atti di convegno   \n",
       "\n",
       "                                           publisher       issn src_repo  \n",
       "0  EDAGRICOLE-EDIZIONI AGRICOLE DE UK IL SOLE 24 ORE        NaN     iris  \n",
       "1                                           GARZANTI        NaN     iris  \n",
       "2                                                NaN  0012-3382     iris  \n",
       "3                                                NaN  0176-8638     iris  \n",
       "4    Sun SITE Central Europe, RWTH Aachen University  1613-0073     iris  "
      ]
     },
     "execution_count": 187,
     "metadata": {},
     "output_type": "execute_result"
    }
   ],
   "source": [
    "iris.drop(['DES_ALLPEOPLE'], axis=1, inplace=True)\n",
    "iris = iris.rename(columns={'ITEM_ID':'id','ORCID':'orcid','IDE_DOI':'doi', 'IDE_URL':'url', 'OWNING_COLLECTION_DES':'type','DATE_ISSUED_YEAR':'date', 'TITLE':'title', 'PUB_NAME':'publisher'})\n",
    "iris['src_repo'] = 'iris'\n",
    "iris.head()"
   ]
  },
  {
   "cell_type": "markdown",
   "id": "c5afae16",
   "metadata": {},
   "source": [
    "## Mashup"
   ]
  },
  {
   "cell_type": "code",
   "execution_count": 188,
   "id": "0c53cf6c",
   "metadata": {},
   "outputs": [],
   "source": [
    "mashup = pd.concat([norm_zen_ds, ams_ds_filt ,swh_ds, iris], join='outer', ignore_index=True)"
   ]
  },
  {
   "cell_type": "code",
   "execution_count": 189,
   "id": "86ef7e64",
   "metadata": {},
   "outputs": [
    {
     "data": {
      "text/html": [
       "<div>\n",
       "<style scoped>\n",
       "    .dataframe tbody tr th:only-of-type {\n",
       "        vertical-align: middle;\n",
       "    }\n",
       "\n",
       "    .dataframe tbody tr th {\n",
       "        vertical-align: top;\n",
       "    }\n",
       "\n",
       "    .dataframe thead th {\n",
       "        text-align: right;\n",
       "    }\n",
       "</style>\n",
       "<table border=\"1\" class=\"dataframe\">\n",
       "  <thead>\n",
       "    <tr style=\"text-align: right;\">\n",
       "      <th></th>\n",
       "      <th>title</th>\n",
       "      <th>id</th>\n",
       "      <th>doi</th>\n",
       "      <th>creators</th>\n",
       "      <th>orcid</th>\n",
       "      <th>date</th>\n",
       "      <th>description</th>\n",
       "      <th>resource_type</th>\n",
       "      <th>url</th>\n",
       "      <th>type</th>\n",
       "      <th>rights</th>\n",
       "      <th>publisher</th>\n",
       "      <th>relation</th>\n",
       "      <th>communities</th>\n",
       "      <th>src_repo</th>\n",
       "      <th>issn</th>\n",
       "    </tr>\n",
       "  </thead>\n",
       "  <tbody>\n",
       "    <tr>\n",
       "      <th>0</th>\n",
       "      <td>Il Progetto ACCESs: esperienze di accessibilit...</td>\n",
       "      <td>7956878</td>\n",
       "      <td>10.5281/zenodo.7956878</td>\n",
       "      <td>[Zanchi, Anna]</td>\n",
       "      <td>[nan]</td>\n",
       "      <td>2023-05-22</td>\n",
       "      <td>&lt;p&gt;Tesi di laurea magistrale del corso di Arti...</td>\n",
       "      <td>Thesis</td>\n",
       "      <td>https://doi.org/10.5281/zenodo.7956878</td>\n",
       "      <td>publication</td>\n",
       "      <td>open</td>\n",
       "      <td>Alma Mater Studiorum Università di Bologna</td>\n",
       "      <td>[7956877]</td>\n",
       "      <td>[]</td>\n",
       "      <td>zenodo</td>\n",
       "      <td>NaN</td>\n",
       "    </tr>\n",
       "    <tr>\n",
       "      <th>1</th>\n",
       "      <td>La Chouffe DMP New</td>\n",
       "      <td>6411449</td>\n",
       "      <td>10.5281/zenodo.6411449</td>\n",
       "      <td>[Chiara Catizone, Giulia Venditti, Davide Brem...</td>\n",
       "      <td>[0000-0003-2445-2426, 0000-0001-7696-7574, 000...</td>\n",
       "      <td>2022-04-04</td>\n",
       "      <td>&lt;p&gt;This DMP has been created fo managing data ...</td>\n",
       "      <td>Output management plan</td>\n",
       "      <td>https://doi.org/10.5281/zenodo.6411449</td>\n",
       "      <td>publication</td>\n",
       "      <td>open</td>\n",
       "      <td>zenodo</td>\n",
       "      <td>[6411448]</td>\n",
       "      <td>[argos]</td>\n",
       "      <td>zenodo</td>\n",
       "      <td>NaN</td>\n",
       "    </tr>\n",
       "    <tr>\n",
       "      <th>2</th>\n",
       "      <td>Footactile rhythmics: protocols and data colle...</td>\n",
       "      <td>5504259</td>\n",
       "      <td>10.5281/zenodo.5504259</td>\n",
       "      <td>[Dall'Osso, Giorgio]</td>\n",
       "      <td>[0000-0002-4219-7513]</td>\n",
       "      <td>2021-09-13</td>\n",
       "      <td>&lt;p&gt;The data shared refer to research investiga...</td>\n",
       "      <td>Dataset</td>\n",
       "      <td>https://doi.org/10.5281/zenodo.5504259</td>\n",
       "      <td>dataset</td>\n",
       "      <td>open</td>\n",
       "      <td>Alma Mater Studiorum - Università di Bologna</td>\n",
       "      <td>[5504258]</td>\n",
       "      <td>[]</td>\n",
       "      <td>zenodo</td>\n",
       "      <td>NaN</td>\n",
       "    </tr>\n",
       "    <tr>\n",
       "      <th>3</th>\n",
       "      <td>La Chouffe DMP</td>\n",
       "      <td>6411382</td>\n",
       "      <td>10.5281/zenodo.6411382</td>\n",
       "      <td>[Chiara Catizone]</td>\n",
       "      <td>[nan]</td>\n",
       "      <td>2022-04-04</td>\n",
       "      <td>This DMP has been created fo managing data rep...</td>\n",
       "      <td>Output management plan</td>\n",
       "      <td>https://doi.org/10.5281/zenodo.6411382</td>\n",
       "      <td>publication</td>\n",
       "      <td>open</td>\n",
       "      <td>zenodo</td>\n",
       "      <td>[6411381]</td>\n",
       "      <td>[argos]</td>\n",
       "      <td>zenodo</td>\n",
       "      <td>NaN</td>\n",
       "    </tr>\n",
       "    <tr>\n",
       "      <th>4</th>\n",
       "      <td>Addressing the Challenges of Health Data Stand...</td>\n",
       "      <td>15358180</td>\n",
       "      <td>10.5281/zenodo.15358180</td>\n",
       "      <td>[Marfoglia, Alberto, Arcobelli, Valerio Antoni...</td>\n",
       "      <td>[0009-0000-5857-2376, 0000-0002-1262-9899, 000...</td>\n",
       "      <td>2025-05-07</td>\n",
       "      <td>&lt;p&gt;This table presents the data extraction fro...</td>\n",
       "      <td>Dataset</td>\n",
       "      <td>https://doi.org/10.5281/zenodo.15358180</td>\n",
       "      <td>dataset</td>\n",
       "      <td>open</td>\n",
       "      <td>zenodo</td>\n",
       "      <td>[15358179]</td>\n",
       "      <td>[]</td>\n",
       "      <td>zenodo</td>\n",
       "      <td>NaN</td>\n",
       "    </tr>\n",
       "  </tbody>\n",
       "</table>\n",
       "</div>"
      ],
      "text/plain": [
       "                                               title        id  \\\n",
       "0  Il Progetto ACCESs: esperienze di accessibilit...   7956878   \n",
       "1                                 La Chouffe DMP New   6411449   \n",
       "2  Footactile rhythmics: protocols and data colle...   5504259   \n",
       "3                                     La Chouffe DMP   6411382   \n",
       "4  Addressing the Challenges of Health Data Stand...  15358180   \n",
       "\n",
       "                       doi                                           creators  \\\n",
       "0   10.5281/zenodo.7956878                                     [Zanchi, Anna]   \n",
       "1   10.5281/zenodo.6411449  [Chiara Catizone, Giulia Venditti, Davide Brem...   \n",
       "2   10.5281/zenodo.5504259                               [Dall'Osso, Giorgio]   \n",
       "3   10.5281/zenodo.6411382                                  [Chiara Catizone]   \n",
       "4  10.5281/zenodo.15358180  [Marfoglia, Alberto, Arcobelli, Valerio Antoni...   \n",
       "\n",
       "                                               orcid        date  \\\n",
       "0                                              [nan]  2023-05-22   \n",
       "1  [0000-0003-2445-2426, 0000-0001-7696-7574, 000...  2022-04-04   \n",
       "2                              [0000-0002-4219-7513]  2021-09-13   \n",
       "3                                              [nan]  2022-04-04   \n",
       "4  [0009-0000-5857-2376, 0000-0002-1262-9899, 000...  2025-05-07   \n",
       "\n",
       "                                         description           resource_type  \\\n",
       "0  <p>Tesi di laurea magistrale del corso di Arti...                  Thesis   \n",
       "1  <p>This DMP has been created fo managing data ...  Output management plan   \n",
       "2  <p>The data shared refer to research investiga...                 Dataset   \n",
       "3  This DMP has been created fo managing data rep...  Output management plan   \n",
       "4  <p>This table presents the data extraction fro...                 Dataset   \n",
       "\n",
       "                                       url         type rights  \\\n",
       "0   https://doi.org/10.5281/zenodo.7956878  publication   open   \n",
       "1   https://doi.org/10.5281/zenodo.6411449  publication   open   \n",
       "2   https://doi.org/10.5281/zenodo.5504259      dataset   open   \n",
       "3   https://doi.org/10.5281/zenodo.6411382  publication   open   \n",
       "4  https://doi.org/10.5281/zenodo.15358180      dataset   open   \n",
       "\n",
       "                                      publisher    relation communities  \\\n",
       "0    Alma Mater Studiorum Università di Bologna   [7956877]          []   \n",
       "1                                        zenodo   [6411448]     [argos]   \n",
       "2  Alma Mater Studiorum - Università di Bologna   [5504258]          []   \n",
       "3                                        zenodo   [6411381]     [argos]   \n",
       "4                                        zenodo  [15358179]          []   \n",
       "\n",
       "  src_repo issn  \n",
       "0   zenodo  NaN  \n",
       "1   zenodo  NaN  \n",
       "2   zenodo  NaN  \n",
       "3   zenodo  NaN  \n",
       "4   zenodo  NaN  "
      ]
     },
     "execution_count": 189,
     "metadata": {},
     "output_type": "execute_result"
    }
   ],
   "source": [
    "mashup.head()"
   ]
  },
  {
   "cell_type": "markdown",
   "id": "a752d33d",
   "metadata": {},
   "source": [
    "## output"
   ]
  },
  {
   "cell_type": "code",
   "execution_count": 191,
   "id": "929d786a",
   "metadata": {},
   "outputs": [],
   "source": [
    "mashup.to_csv('../mashup_dataset/mashup.csv', index=False)"
   ]
  },
  {
   "cell_type": "code",
   "execution_count": null,
   "id": "57b1283b-4c4b-4095-9acd-eac95e4e12ca",
   "metadata": {},
   "outputs": [],
   "source": []
  }
 ],
 "metadata": {
  "kernelspec": {
   "display_name": "Python open_access_pr",
   "language": "python",
   "name": "open_access_pr"
  },
  "language_info": {
   "codemirror_mode": {
    "name": "ipython",
    "version": 3
   },
   "file_extension": ".py",
   "mimetype": "text/x-python",
   "name": "python",
   "nbconvert_exporter": "python",
   "pygments_lexer": "ipython3",
   "version": "3.13.2"
  }
 },
 "nbformat": 4,
 "nbformat_minor": 5
}
